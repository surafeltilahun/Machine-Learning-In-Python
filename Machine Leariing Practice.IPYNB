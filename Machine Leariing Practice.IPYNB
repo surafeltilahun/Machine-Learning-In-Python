{
 "cells": [
  {
   "cell_type": "markdown",
   "source": [
    "# Steps\n",
    "\n",
    "While aplying machine learning to any datasets, the following are the high-level steps must be followed:\n",
    "\n",
    "* Import the data\n",
    "* Clean the data - remove duplicates, remove irrilivant data,etc\n",
    "* Split into two segments - Training/Testing data set\n",
    "* Create a model \n",
    "* Traing a model\n",
    "* Make Predictions\n",
    "* Evaluate and Improve\n",
    "\n",
    "\n",
    "# Libraries\n",
    "\n",
    "Popular libraries to use for machine learning in python projects\n",
    "\n",
    "* pandas - provides multidimensional array\n",
    "* numpy - data analysis library that provides concept called dataframe\n",
    "* matplotlib - two dimensional plotting library to create plots\n",
    "* sikit-learn - machine learning libraries that provedes machine learning algorithms, such as dicision tree and so on.\n"
   ],
   "metadata": {}
  },
  {
   "cell_type": "code",
   "execution_count": 99,
   "source": [
    "#Import libraries \n",
    "import pandas as pd\n",
    "from sklearn.tree import DecisionTreeClassifier\n",
    "from sklearn.model_selection import train_test_split\n",
    "from sklearn.metrics import accuracy_score\n",
    "from sklearn.externals import joblib\n",
    "from sklearn import tree\n",
    "\n",
    "# #import dataset\n",
    "music = pd.read_csv(r'music.csv',encoding='latin1')\n",
    "#drop columns\n",
    "X  = music.drop(columns=\"genre\")\n",
    "#get the genre of musics\n",
    "y = music[\"genre\"]\n",
    "X_train,X_test,y_train,y_test = train_test_split(X,y,test_size=0.2)"
   ],
   "outputs": [],
   "metadata": {}
  },
  {
   "cell_type": "code",
   "execution_count": 100,
   "source": [
    "#Traing a decision tree classifier model\n",
    "model = DecisionTreeClassifier()\n",
    "model.fit(X,y)\n",
    "predictions = model.predict(X_test)\n",
    "score = accuracy_score(y_test,predictions)\n",
    "score"
   ],
   "outputs": [
    {
     "output_type": "execute_result",
     "data": {
      "text/plain": [
       "1.0"
      ]
     },
     "metadata": {},
     "execution_count": 100
    }
   ],
   "metadata": {}
  },
  {
   "cell_type": "code",
   "execution_count": 92,
   "source": [
    "#dump the trained model\n",
    "# model = joblib.dump(model, 'music-recommender.joblib')\n"
   ],
   "outputs": [],
   "metadata": {}
  },
  {
   "cell_type": "code",
   "execution_count": 95,
   "source": [
    "#load the trained model\n",
    "# model1 = joblib.load('music-recommender.joblib')\n",
    "# predictions = model1.predict([[21,1]])\n"
   ],
   "outputs": [],
   "metadata": {}
  },
  {
   "cell_type": "code",
   "execution_count": 101,
   "source": [
    "#Export the model diagram\n",
    "tree.export_graphviz(model,out_file='music-recommender.dot',\n",
    "                                feature_names=[\"age\",\"gender\"],\n",
    "                                class_names=sorted(y.unique()),\n",
    "                                label='all',\n",
    "                                rounded=True,\n",
    "                                filled=True)"
   ],
   "outputs": [],
   "metadata": {}
  },
  {
   "cell_type": "code",
   "execution_count": null,
   "source": [],
   "outputs": [],
   "metadata": {}
  }
 ],
 "metadata": {
  "orig_nbformat": 4,
  "language_info": {
   "name": "python",
   "version": "3.6.10",
   "mimetype": "text/x-python",
   "codemirror_mode": {
    "name": "ipython",
    "version": 3
   },
   "pygments_lexer": "ipython3",
   "nbconvert_exporter": "python",
   "file_extension": ".py"
  },
  "kernelspec": {
   "name": "python3",
   "display_name": "Python 3.6.10 64-bit ('base': conda)"
  },
  "interpreter": {
   "hash": "c45c4acb0164e716eb819ccdd4d0f85c2d853e6ad3c6655bed6d69f23a9a8724"
  }
 },
 "nbformat": 4,
 "nbformat_minor": 2
}