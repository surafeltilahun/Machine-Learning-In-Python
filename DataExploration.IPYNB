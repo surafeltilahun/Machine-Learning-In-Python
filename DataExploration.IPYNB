{
 "cells": [
  {
   "cell_type": "markdown",
   "source": [
    "# Steps\n",
    "\n",
    "While aplying machine learning to any datasets, the following are the high-level steps must be followed:\n",
    "\n",
    "* Import the data\n",
    "* Clean the data - remove duplicates, remove irrilivant data,etc\n",
    "* Split into two segments - Training/Testing data set\n",
    "* Create a model \n",
    "* Traing a model\n",
    "* Make Predictions\n",
    "* Evaluate and Improve\n",
    "\n",
    "\n",
    "# Libraries\n",
    "\n",
    "Popular libraries to use for machine learning in python projects\n",
    "\n",
    "* pandas - provides multidimensional array\n",
    "* numpy - data analysis library that provides concept called dataframe\n",
    "* matplotlib - two dimensional plotting library to creating plots\n",
    "* sikit-learn - machine learning libraries that provedes machine learning algorithms, such as dicision tree and so on.\n"
   ],
   "metadata": {}
  },
  {
   "cell_type": "code",
   "execution_count": null,
   "source": [],
   "outputs": [],
   "metadata": {}
  },
  {
   "cell_type": "markdown",
   "source": [],
   "metadata": {}
  }
 ],
 "metadata": {
  "orig_nbformat": 4,
  "language_info": {
   "name": "python"
  }
 },
 "nbformat": 4,
 "nbformat_minor": 2
}